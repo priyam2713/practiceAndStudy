{
 "cells": [
  {
   "cell_type": "markdown",
   "metadata": {},
   "source": [
    "# Priyam version"
   ]
  },
  {
   "cell_type": "code",
   "execution_count": 34,
   "metadata": {},
   "outputs": [
    {
     "name": "stdout",
     "output_type": "stream",
     "text": [
      "ONE THOUSAND\n"
     ]
    }
   ],
   "source": [
    "# Constants\n",
    "DIGITS_MAP = {\n",
    "    '0': 'ZERO',\n",
    "    '1': 'ONE', \n",
    "    '2': 'TWO',\n",
    "    '3': 'THREE',\n",
    "    '4': 'FOUR',\n",
    "    '5': 'FIVE',\n",
    "    '6': 'SIX',\n",
    "    '7': 'SEVEN',\n",
    "    '8': 'EIGHT',\n",
    "    '9': 'NINE',\n",
    "    '10': 'TEN',\n",
    "    '11': 'ELEVEN',\n",
    "    '12': 'TWELVE',\n",
    "    '13': 'THIRTEEN',\n",
    "    '14': 'FOURTEEN',\n",
    "    '15': 'FIFTEEN',\n",
    "    '16': 'SIXTEEN',\n",
    "    '17': 'SEVENTEEN',\n",
    "    '18': 'EIGHTEEN',\n",
    "    '19': 'NINETEEN',\n",
    "    '20': 'TWENTY',\n",
    "    '30': 'THIRTY',\n",
    "    '40': 'FOURTY',\n",
    "    '50': 'FIFTY',\n",
    "    '60': 'SIXTY',\n",
    "    '70': 'SEVENTY',\n",
    "    '80': 'EIGHTY',\n",
    "    '90': 'NINTY',\n",
    "    '100': 'HUNDRED',\n",
    "    '1000': 'THOUSAND'\n",
    "}\n",
    "MAX_DIGIT_LIMIT = 4    \n",
    "# Function to Convert Number to Word\n",
    "def spell_number_to_word(number, spell_word=[]):\n",
    "    digits = list(str(number))\n",
    "    count_of_digits = len(digits)\n",
    "    i = 0\n",
    "    if count_of_digits > MAX_DIGIT_LIMIT:\n",
    "        return []\n",
    "    while i < count_of_digits:\n",
    "        if count_of_digits == 4:\n",
    "            if digits[i] != '0':\n",
    "                spell_word.extend([DIGITS_MAP[str(digits[i])], 'THOUSAND'])\n",
    "        \n",
    "        elif count_of_digits == 3:\n",
    "            if digits[i] != '0':\n",
    "                spell_word.extend([DIGITS_MAP[str(digits[i])], 'HUNDRED'])\n",
    "        \n",
    "        elif count_of_digits == 2:\n",
    "            if digits[i] != '0':\n",
    "                if digits[i] == '1':\n",
    "                    num = int(digits[i]) * 10 + int(digits[i+1])\n",
    "                    spell_word.extend([DIGITS_MAP[str(num)]])\n",
    "                    break\n",
    "                num = int(digits[i]) * 10\n",
    "                spell_word.extend([DIGITS_MAP[str(num)]])\n",
    "\n",
    "        elif count_of_digits == 1:\n",
    "            if digits[i] != '0':\n",
    "                spell_word.extend([DIGITS_MAP[str(digits[i])]])\n",
    "            \n",
    "        digits.remove(digits[i])\n",
    "        count_of_digits -= 1\n",
    "    return spell_word\n",
    "\n",
    "\n",
    "if __name__ == \"__main__\":\n",
    "    number = 1000\n",
    "    if number < 0:\n",
    "        print (\"Not a valid input\")\n",
    "    else:\n",
    "        spell_words = spell_number_to_word(number)\n",
    "        if spell_words:\n",
    "            print(\" \".join(spell_words))\n",
    "        else:\n",
    "            print (\"Implementing soon for More than four digits\")\n"
   ]
  },
  {
   "cell_type": "markdown",
   "metadata": {},
   "source": [
    "# Navin version"
   ]
  },
  {
   "cell_type": "code",
   "execution_count": 9,
   "metadata": {},
   "outputs": [
    {
     "name": "stdout",
     "output_type": "stream",
     "text": [
      "Enter the number : 45\n",
      "forty five\n"
     ]
    }
   ],
   "source": [
    "'''\n",
    "Python program to print a given number in\n",
    "words. The program handles numbers \n",
    "from 0 to 9999 \n",
    "\n",
    "A function that prints given number in words \n",
    "\n",
    "'''\n",
    "\n",
    "def convert_number_to_word(num):\n",
    "    lengh=len(num)\n",
    "    if(lengh==0 and lengh>4):\n",
    "        print(\"please enter lenght of number below 4 not 0\")\n",
    "        return\n",
    "    \n",
    "\t\n",
    "    single_digit=[\"zero\", \"one\", \"two\", \"three\", \"four\", \"five\", \"six\", \"seven\", \"eight\", \"nine\"]\n",
    "\n",
    "    # The first string is not used,  it is to make array indexing simple \n",
    "    two_digit= [\"\", \"ten\", \"eleven\", \"twelve\", \"thirteen\", \"fourteen\", \"fifteen\", \"sixteen\",\"seventeen\", \"eighteen\", \"nineteen\"]\n",
    "    tens_multiple= [\"\", \"\", \"twenty\", \"thirty\", \"forty\",\t\"fifty\", \"sixty\", \"seventy\", \"eighty\",   \"ninety\"]  \n",
    "    \n",
    "\t# The first two string are not used, they are to make array indexing simple\n",
    "    tens_power=[\"hundred\",\"thausand\"]\n",
    "\n",
    "    # For single digit number \n",
    "    if(lengh==1):\n",
    "        print(single_digit[ord(num[0])-48])\n",
    "        return\n",
    "    \n",
    "    # Code path for first 2 digits\n",
    "    c=0\n",
    "    while(c<len(num)):\n",
    "        if(lengh>=3):\n",
    "            \n",
    "            if(ord(num[c])-48!=0):\n",
    "                print(single_digit[ord(num[c])-48],end=' ')\n",
    "                print(tens_power[lengh-3], end=' ')\n",
    "            lengh-=1\n",
    "        \n",
    "        # Code path for last 2 digits\n",
    "        else:\n",
    "\n",
    "            # Need to explicitly handle \n",
    "\t\t\t# 10-19. Sum of the two digits\n",
    "\t\t\t# is used as index of \"two_digits\"\n",
    "\t\t\t# array of strings\n",
    "            if(ord(num[c])-48==1):\n",
    "                sum=(ord(num[c])-48)+(ord(num[c+1])-48)\n",
    "                print(two_digit[sum])\n",
    "                return\n",
    "            # Need to explicitely handle 20\n",
    "            elif(ord(num[c])-48==2 and ord(num[c])-48==0):\n",
    "                print('twenty')\n",
    "                return\n",
    "\n",
    "            # Rest of the two digit \n",
    "\t\t\t# numbers i.e., 21 to 99 \n",
    "            else:\n",
    "                i=ord(num[c])-48\n",
    "                if(i>0):\n",
    "                    print(tens_multiple[i], end=' ')\n",
    "                else:\n",
    "                    print(\"\", end='')\n",
    "                c+=1\n",
    "                if(ord(num[c])-48!=0):\n",
    "                    print(single_digit[ord(num[c])-48])\n",
    "        c+=1\n",
    "\n",
    "\n",
    "#Start Code\n",
    "string =input(\"Enter the number : \")\n",
    "convert_number_to_word(string)"
   ]
  },
  {
   "cell_type": "markdown",
   "metadata": {},
   "source": [
    "# Abhishek version"
   ]
  },
  {
   "cell_type": "code",
   "execution_count": 35,
   "metadata": {},
   "outputs": [
    {
     "name": "stdout",
     "output_type": "stream",
     "text": [
      "One Thousand\n"
     ]
    }
   ],
   "source": [
    "num2words = {0: 'Zero', 1: 'One', 2: 'Two', 3: 'Three', 4: 'Four', 5: 'Five', \\\n",
    "             6: 'Six', 7: 'Seven', 8: 'Eight', 9: 'Nine', 10: 'Ten', \\\n",
    "             11: 'Eleven', 12: 'Twelve', 13: 'Thirteen', 14: 'Fourteen', \\\n",
    "             15: 'Fifteen', 16: 'Sixteen', 17: 'Seventeen', 18: 'Eighteen', \\\n",
    "             19: 'Nineteen', 20: 'Twenty', 30: 'Thirty', 40: 'Forty', \\\n",
    "             50: 'Fifty', 60: 'Sixty', 70: 'Seventy', 80: 'Eighty', \\\n",
    "             90: 'Ninety', 100: 'Hundred', 1000: 'Thousand'}\n",
    "\n",
    "\n",
    "def convert_num_to_word(number):\n",
    "    word_list = []\n",
    "    if number > 9999:\n",
    "        print('Currently utility only supported for 4 digits or lower')\n",
    "        return []\n",
    "    while number >= 0:\n",
    "        divisor = 10** (len(str(number)) - 1)\n",
    "        if num2words.get(number, None):\n",
    "            word_list.append('One {}'.format(num2words[number])) if (divisor>10 and number % divisor == 0) else word_list.append(num2words[number])\n",
    "            return word_list\n",
    "        else:\n",
    "            # quotient = (4000 // 1000)\n",
    "            quotient = (number // divisor) * 10 if divisor == 10 else (number // divisor)\n",
    "            word_list.append(num2words[quotient]) if num2words.get(quotient, None) else None\n",
    "            word_list.append(num2words[divisor]) if divisor > 10 else None\n",
    "            number = number % divisor\n",
    "            if number == 0:\n",
    "                return word_list\n",
    "\n",
    "\n",
    "word_list = convert_num_to_word(1000)\n",
    "print(\" \".join(word_list))"
   ]
  },
  {
   "cell_type": "code",
   "execution_count": null,
   "metadata": {},
   "outputs": [],
   "source": []
  }
 ],
 "metadata": {
  "kernelspec": {
   "display_name": "Python 3",
   "language": "python",
   "name": "python3"
  },
  "language_info": {
   "codemirror_mode": {
    "name": "ipython",
    "version": 3
   },
   "file_extension": ".py",
   "mimetype": "text/x-python",
   "name": "python",
   "nbconvert_exporter": "python",
   "pygments_lexer": "ipython3",
   "version": "3.8.3"
  }
 },
 "nbformat": 4,
 "nbformat_minor": 4
}
